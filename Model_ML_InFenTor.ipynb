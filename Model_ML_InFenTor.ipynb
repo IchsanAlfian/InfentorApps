{
  "cells": [
    {
      "cell_type": "code",
      "execution_count": null,
      "metadata": {
        "colab": {
          "base_uri": "https://localhost:8080/"
        },
        "id": "F0-C79onTdkp",
        "outputId": "6fc97cd9-5f5a-4753-b509-b9d572e9049d"
      },
      "outputs": [
        {
          "output_type": "stream",
          "name": "stdout",
          "text": [
            "Mounted at /gdrive\n"
          ]
        }
      ],
      "source": [
        "from google.colab import drive\n",
        "drive.mount('/gdrive')\n"
      ]
    },
    {
      "cell_type": "markdown",
      "metadata": {
        "id": "fhV7nA_vQMJl"
      },
      "source": [
        "# Import Dataset"
      ]
    },
    {
      "cell_type": "code",
      "execution_count": null,
      "metadata": {
        "id": "g8EJ6reRQN7a"
      },
      "outputs": [],
      "source": [
        "import pandas as pd\n",
        "\n",
        "\n",
        "data = pd.read_excel('/gdrive/MyDrive/InFenTor/DATASET_BETA.xlsx')\n",
        "data.dropna(inplace=True)\n",
        "data.head()"
      ]
    },
    {
      "cell_type": "code",
      "execution_count": null,
      "metadata": {
        "id": "gBPLFsaGVl0j"
      },
      "outputs": [],
      "source": [
        "data['karir'] = data['karir'].replace('Desainer', 'Designer')\n",
        "df = data.copy()"
      ]
    },
    {
      "cell_type": "code",
      "execution_count": null,
      "metadata": {
        "id": "KIYPH-k9QkRt"
      },
      "outputs": [],
      "source": [
        "df.karir.value_counts()"
      ]
    },
    {
      "cell_type": "code",
      "source": [
        "jumlah_col = 2000"
      ],
      "metadata": {
        "id": "btsLW3K97Syv"
      },
      "execution_count": null,
      "outputs": []
    },
    {
      "cell_type": "code",
      "execution_count": null,
      "metadata": {
        "id": "2j1scr6nfFGw"
      },
      "outputs": [],
      "source": [
        "df1 = df[df['karir'] == \"IT\"]\n",
        "df1 = df1.sample(frac=1, random_state=42)\n",
        "df1 = df1.head(jumlah_col)\n",
        "\n",
        "df2 = df[df['karir'] == \"Kesehatan\"]\n",
        "df2 = df2.sample(frac=1, random_state=42)\n",
        "df2 = df2.head(jumlah_col)\n",
        "\n",
        "df3 = df[df['karir'] == \"Akuntan\"]\n",
        "df3 = df3.sample(frac=1, random_state=42)\n",
        "df3 = df3.head(jumlah_col)\n",
        "\n",
        "df4 = df[df['karir'] == \"Guru\"]\n",
        "df4 = df4.sample(frac=1, random_state=42)\n",
        "df4 = df4.head(jumlah_col)\n",
        "\n",
        "df5 = df[df['karir'] == \"Designer\"]\n",
        "df5 = df5.sample(frac=1, random_state=42)\n",
        "df5 = df5.head(jumlah_col)"
      ]
    },
    {
      "cell_type": "code",
      "execution_count": null,
      "metadata": {
        "colab": {
          "base_uri": "https://localhost:8080/"
        },
        "id": "GD37OCGEfFEJ",
        "outputId": "23778de6-1064-4d31-8837-214f0f0d4c7b"
      },
      "outputs": [
        {
          "output_type": "stream",
          "name": "stdout",
          "text": [
            "<class 'pandas.core.frame.DataFrame'>\n",
            "Int64Index: 10000 entries, 78376 to 22152\n",
            "Data columns (total 2 columns):\n",
            " #   Column  Non-Null Count  Dtype \n",
            "---  ------  --------------  ----- \n",
            " 0   karir   10000 non-null  object\n",
            " 1   text    10000 non-null  object\n",
            "dtypes: object(2)\n",
            "memory usage: 234.4+ KB\n"
          ]
        }
      ],
      "source": [
        "df_merge = pd.concat([df1, df2, df3, df4 , df5])\n",
        "df_merge.info()"
      ]
    },
    {
      "cell_type": "code",
      "execution_count": null,
      "metadata": {
        "id": "1695AphpU5hm"
      },
      "outputs": [],
      "source": [
        "import re\n",
        "import string\n",
        "from nltk.corpus import stopwords\n",
        "from nltk.stem import PorterStemmer\n",
        "from nltk.stem import WordNetLemmatizer\n",
        "\n",
        "import nltk\n",
        "nltk.download('stopwords')\n",
        "nltk.download('wordnet')\n"
      ]
    },
    {
      "cell_type": "code",
      "execution_count": null,
      "metadata": {
        "id": "bO7VheyHUqhV"
      },
      "outputs": [],
      "source": [
        "import re\n",
        "def preprocess_text(text):\n",
        "    # Mengubah teks menjadi huruf kecil\n",
        "    text = text.lower()\n",
        "\n",
        "    # Menghapus tanda baca dan karakter selain alfabet\n",
        "    text = re.sub(r'[^a-zA-Z\\s]', '', text)\n",
        "\n",
        "    return text\n",
        "\n",
        "df_merge['text'] = df_merge['text'].apply(preprocess_text)\n",
        "\n"
      ]
    },
    {
      "cell_type": "code",
      "execution_count": null,
      "metadata": {
        "colab": {
          "base_uri": "https://localhost:8080/",
          "height": 206
        },
        "id": "H5IRHmy7VpY4",
        "outputId": "61d6ae5e-de25-412b-de7a-653fae456d28"
      },
      "outputs": [
        {
          "output_type": "execute_result",
          "data": {
            "text/plain": [
              "         karir                                               text\n",
              "29436     Guru  headteacher mr russell boulton hour per week t...\n",
              "1201   Akuntan  manajer regional tahun baru tantangan baru kli...\n",
              "76355       IT  analis bisnis berpenampilan kota berbasis peru...\n",
              "18219  Akuntan  mencari peran yang menantang namun menarik bek...\n",
              "2898   Akuntan  hutang akun emea hari manajer ssc berkshire pe..."
            ],
            "text/html": [
              "\n",
              "  <div id=\"df-18a0aa1b-a0c9-4f8e-a31b-68b5790ebb79\">\n",
              "    <div class=\"colab-df-container\">\n",
              "      <div>\n",
              "<style scoped>\n",
              "    .dataframe tbody tr th:only-of-type {\n",
              "        vertical-align: middle;\n",
              "    }\n",
              "\n",
              "    .dataframe tbody tr th {\n",
              "        vertical-align: top;\n",
              "    }\n",
              "\n",
              "    .dataframe thead th {\n",
              "        text-align: right;\n",
              "    }\n",
              "</style>\n",
              "<table border=\"1\" class=\"dataframe\">\n",
              "  <thead>\n",
              "    <tr style=\"text-align: right;\">\n",
              "      <th></th>\n",
              "      <th>karir</th>\n",
              "      <th>text</th>\n",
              "    </tr>\n",
              "  </thead>\n",
              "  <tbody>\n",
              "    <tr>\n",
              "      <th>29436</th>\n",
              "      <td>Guru</td>\n",
              "      <td>headteacher mr russell boulton hour per week t...</td>\n",
              "    </tr>\n",
              "    <tr>\n",
              "      <th>1201</th>\n",
              "      <td>Akuntan</td>\n",
              "      <td>manajer regional tahun baru tantangan baru kli...</td>\n",
              "    </tr>\n",
              "    <tr>\n",
              "      <th>76355</th>\n",
              "      <td>IT</td>\n",
              "      <td>analis bisnis berpenampilan kota berbasis peru...</td>\n",
              "    </tr>\n",
              "    <tr>\n",
              "      <th>18219</th>\n",
              "      <td>Akuntan</td>\n",
              "      <td>mencari peran yang menantang namun menarik bek...</td>\n",
              "    </tr>\n",
              "    <tr>\n",
              "      <th>2898</th>\n",
              "      <td>Akuntan</td>\n",
              "      <td>hutang akun emea hari manajer ssc berkshire pe...</td>\n",
              "    </tr>\n",
              "  </tbody>\n",
              "</table>\n",
              "</div>\n",
              "      <button class=\"colab-df-convert\" onclick=\"convertToInteractive('df-18a0aa1b-a0c9-4f8e-a31b-68b5790ebb79')\"\n",
              "              title=\"Convert this dataframe to an interactive table.\"\n",
              "              style=\"display:none;\">\n",
              "        \n",
              "  <svg xmlns=\"http://www.w3.org/2000/svg\" height=\"24px\"viewBox=\"0 0 24 24\"\n",
              "       width=\"24px\">\n",
              "    <path d=\"M0 0h24v24H0V0z\" fill=\"none\"/>\n",
              "    <path d=\"M18.56 5.44l.94 2.06.94-2.06 2.06-.94-2.06-.94-.94-2.06-.94 2.06-2.06.94zm-11 1L8.5 8.5l.94-2.06 2.06-.94-2.06-.94L8.5 2.5l-.94 2.06-2.06.94zm10 10l.94 2.06.94-2.06 2.06-.94-2.06-.94-.94-2.06-.94 2.06-2.06.94z\"/><path d=\"M17.41 7.96l-1.37-1.37c-.4-.4-.92-.59-1.43-.59-.52 0-1.04.2-1.43.59L10.3 9.45l-7.72 7.72c-.78.78-.78 2.05 0 2.83L4 21.41c.39.39.9.59 1.41.59.51 0 1.02-.2 1.41-.59l7.78-7.78 2.81-2.81c.8-.78.8-2.07 0-2.86zM5.41 20L4 18.59l7.72-7.72 1.47 1.35L5.41 20z\"/>\n",
              "  </svg>\n",
              "      </button>\n",
              "      \n",
              "  <style>\n",
              "    .colab-df-container {\n",
              "      display:flex;\n",
              "      flex-wrap:wrap;\n",
              "      gap: 12px;\n",
              "    }\n",
              "\n",
              "    .colab-df-convert {\n",
              "      background-color: #E8F0FE;\n",
              "      border: none;\n",
              "      border-radius: 50%;\n",
              "      cursor: pointer;\n",
              "      display: none;\n",
              "      fill: #1967D2;\n",
              "      height: 32px;\n",
              "      padding: 0 0 0 0;\n",
              "      width: 32px;\n",
              "    }\n",
              "\n",
              "    .colab-df-convert:hover {\n",
              "      background-color: #E2EBFA;\n",
              "      box-shadow: 0px 1px 2px rgba(60, 64, 67, 0.3), 0px 1px 3px 1px rgba(60, 64, 67, 0.15);\n",
              "      fill: #174EA6;\n",
              "    }\n",
              "\n",
              "    [theme=dark] .colab-df-convert {\n",
              "      background-color: #3B4455;\n",
              "      fill: #D2E3FC;\n",
              "    }\n",
              "\n",
              "    [theme=dark] .colab-df-convert:hover {\n",
              "      background-color: #434B5C;\n",
              "      box-shadow: 0px 1px 3px 1px rgba(0, 0, 0, 0.15);\n",
              "      filter: drop-shadow(0px 1px 2px rgba(0, 0, 0, 0.3));\n",
              "      fill: #FFFFFF;\n",
              "    }\n",
              "  </style>\n",
              "\n",
              "      <script>\n",
              "        const buttonEl =\n",
              "          document.querySelector('#df-18a0aa1b-a0c9-4f8e-a31b-68b5790ebb79 button.colab-df-convert');\n",
              "        buttonEl.style.display =\n",
              "          google.colab.kernel.accessAllowed ? 'block' : 'none';\n",
              "\n",
              "        async function convertToInteractive(key) {\n",
              "          const element = document.querySelector('#df-18a0aa1b-a0c9-4f8e-a31b-68b5790ebb79');\n",
              "          const dataTable =\n",
              "            await google.colab.kernel.invokeFunction('convertToInteractive',\n",
              "                                                     [key], {});\n",
              "          if (!dataTable) return;\n",
              "\n",
              "          const docLinkHtml = 'Like what you see? Visit the ' +\n",
              "            '<a target=\"_blank\" href=https://colab.research.google.com/notebooks/data_table.ipynb>data table notebook</a>'\n",
              "            + ' to learn more about interactive tables.';\n",
              "          element.innerHTML = '';\n",
              "          dataTable['output_type'] = 'display_data';\n",
              "          await google.colab.output.renderOutput(dataTable, element);\n",
              "          const docLink = document.createElement('div');\n",
              "          docLink.innerHTML = docLinkHtml;\n",
              "          element.appendChild(docLink);\n",
              "        }\n",
              "      </script>\n",
              "    </div>\n",
              "  </div>\n",
              "  "
            ]
          },
          "metadata": {},
          "execution_count": 45
        }
      ],
      "source": [
        "df_merge = df_merge.sample(frac=1, random_state=42)\n",
        "\n",
        "df_merge.head()"
      ]
    },
    {
      "cell_type": "markdown",
      "source": [
        "# Modelling"
      ],
      "metadata": {
        "id": "7R63Bh98ggT_"
      }
    },
    {
      "cell_type": "code",
      "execution_count": null,
      "metadata": {
        "id": "5ArCR_9XVt72"
      },
      "outputs": [],
      "source": [
        "from keras.preprocessing.text import Tokenizer\n",
        "from tensorflow.keras.preprocessing.sequence import pad_sequences\n",
        "from keras.callbacks import EarlyStopping\n",
        "from sklearn.model_selection import train_test_split\n",
        "from tensorflow.keras.optimizers import Adam\n",
        "import tensorflow as tf\n",
        "import numpy as np\n",
        "from tensorflow.keras.preprocessing.text import Tokenizer\n",
        "from tensorflow.keras.preprocessing.sequence import pad_sequences\n",
        "from tensorflow.keras.models import Sequential\n",
        "from tensorflow.keras.layers import Dense, Flatten, MaxPooling1D, GlobalMaxPooling1D, LSTM, Dropout, GRU, Activation, Embedding, Bidirectional,SpatialDropout1D, BatchNormalization, Conv1D, MaxPool1D"
      ]
    },
    {
      "cell_type": "code",
      "execution_count": null,
      "metadata": {
        "id": "E52T8GD8VzCt"
      },
      "outputs": [],
      "source": [
        "data = df_merge.copy()"
      ]
    },
    {
      "cell_type": "code",
      "execution_count": null,
      "metadata": {
        "id": "UbnA0-2LWApq"
      },
      "outputs": [],
      "source": [
        "MAX_NB_WORDS = 5000\n",
        "# Max number of words in each description.\n",
        "MAX_SEQUENCE_LENGTH = 250\n",
        "# This is fixed.\n",
        "\n",
        "EMBEDDING_DIM = 100"
      ]
    },
    {
      "cell_type": "code",
      "execution_count": null,
      "metadata": {
        "id": "ox42iu0lWApw"
      },
      "outputs": [],
      "source": [
        "\n",
        "# Tokenizer\n",
        "tokenizer = Tokenizer(num_words=MAX_NB_WORDS,\n",
        "                      filters='!\"#$%&()*+,-./:;<=>?@[\\]^_`{|}~',\n",
        "                      lower=True, oov_token='OOV')\n",
        "\n",
        "# Fit Tokenizer\n",
        "tokenizer.fit_on_texts(data['text'].values)\n",
        "\n",
        "# Jadikan menjadi Sequences\n",
        "X = tokenizer.texts_to_sequences(data['text'].values)"
      ]
    },
    {
      "cell_type": "code",
      "execution_count": null,
      "metadata": {
        "id": "19zffHXgAWeS"
      },
      "outputs": [],
      "source": [
        "word_index = tokenizer.word_index\n",
        "\n",
        "import json\n",
        "\n",
        "# Menyimpan word_index sebagai file JSON\n",
        "with open('/gdrive/MyDrive/InFenTor/tokenizer_word_index_try_pertama.json', 'w') as f:\n",
        "    json.dump(word_index, f)"
      ]
    },
    {
      "cell_type": "code",
      "source": [
        "word_index = tokenizer.word_index\n",
        "word_index"
      ],
      "metadata": {
        "id": "pIvxYOueE7fK"
      },
      "execution_count": null,
      "outputs": []
    },
    {
      "cell_type": "code",
      "execution_count": null,
      "metadata": {
        "id": "oMMx1PobWApw"
      },
      "outputs": [],
      "source": [
        "# agar sama panjang\n",
        "\n",
        "X = pad_sequences(X, maxlen=MAX_SEQUENCE_LENGTH)"
      ]
    },
    {
      "cell_type": "code",
      "execution_count": null,
      "metadata": {
        "colab": {
          "base_uri": "https://localhost:8080/"
        },
        "id": "HJvG9zJxWApw",
        "outputId": "a3dfc9e1-4148-4d30-f696-ad347ed0a44e"
      },
      "outputs": [
        {
          "output_type": "execute_result",
          "data": {
            "text/plain": [
              "[[3379, 1597, 2188, 1]]"
            ]
          },
          "metadata": {},
          "execution_count": 52
        }
      ],
      "source": [
        "tokenizer.texts_to_sequences([\"saya suka menggambar gedung\"])"
      ]
    },
    {
      "cell_type": "code",
      "execution_count": null,
      "metadata": {
        "id": "uXH6u4xHWApw"
      },
      "outputs": [],
      "source": [
        "# Melihat tokenizer kita\n",
        "# tokenizer.word_index"
      ]
    },
    {
      "cell_type": "code",
      "execution_count": null,
      "metadata": {
        "colab": {
          "base_uri": "https://localhost:8080/"
        },
        "id": "kvNGP2CvWApw",
        "outputId": "b56912b7-059e-4eca-aa4e-d31dc724cd93"
      },
      "outputs": [
        {
          "output_type": "stream",
          "name": "stdout",
          "text": [
            "Shape of label tensor: (10000, 5)\n"
          ]
        }
      ],
      "source": [
        "replace_category = {\n",
        "'Akuntan':0, 'Designer':1, 'Guru':2, 'Kesehatan':3, 'IT':4\n",
        "}\n",
        "Y = pd.get_dummies(data.replace({\"karir\": replace_category})['karir'].values)\n",
        "print('Shape of label tensor:', Y.shape)"
      ]
    },
    {
      "cell_type": "code",
      "execution_count": null,
      "metadata": {
        "colab": {
          "base_uri": "https://localhost:8080/"
        },
        "id": "8tD_TkxIWApw",
        "outputId": "b752d80f-8f71-4958-e526-3c52bd993544"
      },
      "outputs": [
        {
          "output_type": "stream",
          "name": "stdout",
          "text": [
            "(9000, 250) (9000, 5)\n",
            "(1000, 250) (1000, 5)\n"
          ]
        }
      ],
      "source": [
        "X_train, X_test, Y_train, Y_test = train_test_split(X,Y, test_size = 0.10, random_state = 42)\n",
        "print(X_train.shape,Y_train.shape)\n",
        "print(X_test.shape,Y_test.shape)"
      ]
    },
    {
      "cell_type": "code",
      "source": [
        "from tensorflow.keras.models import Sequential\n",
        "from tensorflow.keras.layers import Embedding, Bidirectional, LSTM, Dense\n",
        "\n",
        "model = Sequential()\n",
        "model.add(Embedding(MAX_NB_WORDS, 300, input_length=X.shape[1]))\n",
        "model.add(LSTM(256, dropout=0.5, recurrent_dropout=0.5))\n",
        "\n",
        "model.add(Dense(128, activation='relu'))\n",
        "model.add(Dropout(0.5))\n",
        "\n",
        "model.add(Dense(5, activation='softmax'))\n",
        "model.compile(loss='categorical_crossentropy', optimizer='adam', metrics=['accuracy'])\n",
        "\n",
        "epochs = 10\n",
        "batch_size = 64\n",
        "\n",
        "history = model.fit(X_train, Y_train, epochs=epochs, batch_size=batch_size,validation_split=0.1)\n",
        "\n"
      ],
      "metadata": {
        "id": "URzWg-eK89Jx"
      },
      "execution_count": null,
      "outputs": []
    },
    {
      "cell_type": "code",
      "source": [
        "model.summary()"
      ],
      "metadata": {
        "colab": {
          "base_uri": "https://localhost:8080/"
        },
        "id": "Lwqgx06_H3KY",
        "outputId": "f1912cf6-e768-4ecf-bd41-afebf08a0aca"
      },
      "execution_count": null,
      "outputs": [
        {
          "output_type": "stream",
          "name": "stdout",
          "text": [
            "Model: \"sequential_3\"\n",
            "_________________________________________________________________\n",
            " Layer (type)                Output Shape              Param #   \n",
            "=================================================================\n",
            " embedding_3 (Embedding)     (None, 250, 300)          3000000   \n",
            "                                                                 \n",
            " lstm_3 (LSTM)               (None, 256)               570368    \n",
            "                                                                 \n",
            " dense_6 (Dense)             (None, 128)               32896     \n",
            "                                                                 \n",
            " dropout_3 (Dropout)         (None, 128)               0         \n",
            "                                                                 \n",
            " dense_7 (Dense)             (None, 5)                 645       \n",
            "                                                                 \n",
            "=================================================================\n",
            "Total params: 3,603,909\n",
            "Trainable params: 3,603,909\n",
            "Non-trainable params: 0\n",
            "_________________________________________________________________\n"
          ]
        }
      ]
    },
    {
      "cell_type": "code",
      "execution_count": null,
      "metadata": {
        "colab": {
          "base_uri": "https://localhost:8080/",
          "height": 956
        },
        "id": "V1sPYrdvWfua",
        "outputId": "ab559aba-ef0c-48e5-fba3-7034dd0c95e1"
      },
      "outputs": [
        {
          "output_type": "stream",
          "name": "stdout",
          "text": [
            "16/16 [==============================] - 1s 80ms/step - loss: 0.7448 - accuracy: 0.8040\n",
            "Test set\n",
            "  Loss: 0.745\n",
            "  Accuracy: 0.804\n"
          ]
        },
        {
          "output_type": "display_data",
          "data": {
            "text/plain": [
              "<Figure size 640x480 with 1 Axes>"
            ],
            "image/png": "[encoded data removed]"
          },
          "metadata": {}
        },
        {
          "output_type": "display_data",
          "data": {
            "text/plain": [
              "<Figure size 640x480 with 1 Axes>"
            ],
            "image/png": "[encoded data removed]"
          },
          "metadata": {}
        }
      ],
      "source": [
        "import matplotlib.pyplot as plt\n",
        "\n",
        "accr = model.evaluate(X_test,Y_test)\n",
        "print('Test set\\n  Loss: {:0.3f}\\n  Accuracy: {:0.3f}'.format(accr[0],accr[1]))\n",
        "\n",
        "plt.title('Loss')\n",
        "plt.plot(history.history['loss'], label='train')\n",
        "plt.plot(history.history['val_loss'], label='test')\n",
        "plt.legend()\n",
        "plt.show();\n",
        "\n",
        "plt.title('Accuracy')\n",
        "plt.plot(history.history['accuracy'], label='train')\n",
        "plt.plot(history.history['val_accuracy'], label='test')\n",
        "plt.legend()\n",
        "plt.show();"
      ]
    },
    {
      "cell_type": "code",
      "execution_count": null,
      "metadata": {
        "id": "61fntGaxOySm"
      },
      "outputs": [],
      "source": []
    },
    {
      "cell_type": "code",
      "execution_count": null,
      "metadata": {
        "id": "P-ObH3G_mK4y"
      },
      "outputs": [],
      "source": [
        "# Simpan model Keras dalam format SavedModel\n",
        "tf.saved_model.save(model, '/gdrive/MyDrive/InFenTor/saved_model')"
      ]
    },
    {
      "cell_type": "code",
      "execution_count": null,
      "metadata": {
        "id": "-_pXcm4CmcoH"
      },
      "outputs": [],
      "source": [
        "# Simpan model ke file HDF5\n",
        "model.save('/gdrive/MyDrive/InFenTor/model_kedua_embed10k.h5')"
      ]
    },
    {
      "cell_type": "code",
      "source": [],
      "metadata": {
        "id": "RqDObhlhH7ZV"
      },
      "execution_count": null,
      "outputs": []
    }
  ],
  "metadata": {
    "accelerator": "GPU",
    "colab": {
      "provenance": []
    },
    "kernelspec": {
      "display_name": "Python 3",
      "name": "python3"
    },
    "language_info": {
      "name": "python"
    }
  },
  "nbformat": 4,
  "nbformat_minor": 0
}